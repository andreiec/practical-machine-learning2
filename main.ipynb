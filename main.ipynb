{
 "cells": [
  {
   "cell_type": "code",
   "execution_count": 123,
   "metadata": {},
   "outputs": [],
   "source": [
    "# Imports\n",
    "\n",
    "import numpy as np\n",
    "import glob\n",
    "\n",
    "import statistics as stats\n",
    "import librosa\n",
    "\n",
    "from scipy.io import wavfile\n",
    "from scipy.fft import fft\n",
    "from scipy.stats import skew, kurtosis, mode, iqr\n",
    "\n",
    "from matplotlib import pyplot as plt\n",
    "\n",
    "from sklearn.model_selection import train_test_split, GridSearchCV\n",
    "from sklearn.cluster import KMeans, AgglomerativeClustering\n",
    "from sklearn.metrics import silhouette_score\n",
    "from sklearn import svm, preprocessing\n",
    "\n",
    "FS_RATE = 22050\n",
    "SIGNAL_LEN = 66150"
   ]
  },
  {
   "cell_type": "code",
   "execution_count": 3,
   "metadata": {},
   "outputs": [],
   "source": [
    "def read_wav_file(file_name):\n",
    "    return wavfile.read(file_name)[1]"
   ]
  },
  {
   "cell_type": "code",
   "execution_count": 4,
   "metadata": {},
   "outputs": [],
   "source": [
    "# Read files and labels\n",
    "signals = []\n",
    "labels = []\n",
    "\n",
    "with open('./data/labels.csv') as labels_file:\n",
    "    labels_raw = dict([line.strip().split(',') for line in labels_file.readlines()[1:]])\n",
    "\n",
    "    for file_name in glob.glob('./data/audio/*.wav'):\n",
    "        signals.append(read_wav_file(file_name))\n",
    "        labels.append(labels_raw[file_name.split('\\\\')[1]])"
   ]
  },
  {
   "cell_type": "code",
   "execution_count": 80,
   "metadata": {},
   "outputs": [],
   "source": [
    "# Convert to np array\n",
    "raw_data = np.array(signals)\n",
    "labels = np.array(labels)"
   ]
  },
  {
   "cell_type": "code",
   "execution_count": 37,
   "metadata": {},
   "outputs": [],
   "source": [
    "def extract_features(signal_data):\n",
    "    signal_fft = np.abs(fft(signal_data))[:SIGNAL_LEN // 2]\n",
    "    \n",
    "    # Simple feature extraction\n",
    "    signal_features = [\n",
    "\n",
    "        # Base stats\n",
    "        stats.median(signal_data),\n",
    "        stats.median_low(signal_data),\n",
    "        stats.median_high(signal_data),\n",
    "        stats.median_grouped(signal_data),\n",
    "        stats.pstdev(signal_data),\n",
    "        stats.pvariance(signal_data),\n",
    "        stats.stdev(signal_data),\n",
    "        stats.variance(signal_data),\n",
    "\n",
    "        # Advanced stats\n",
    "        skew(signal_data),\n",
    "        kurtosis(signal_data),\n",
    "        iqr(signal_data),\n",
    "\n",
    "        # Energy and root mean square energy\n",
    "        np.sum(signal_data**2),\n",
    "        *librosa.feature.rms(y=signal_data)[0],\n",
    "\n",
    "        # Tempo and zero crossings\n",
    "        librosa.beat.tempo(y=signal_data)[0],\n",
    "        sum(librosa.zero_crossings(y=signal_data, pad=False)),\n",
    "        \n",
    "        # Spectral features\n",
    "        *librosa.feature.spectral_bandwidth(y=signal_data)[0],\n",
    "        *librosa.feature.spectral_contrast(y=signal_data)[0],\n",
    "        *librosa.feature.spectral_flatness(y=signal_data)[0],\n",
    "        *librosa.feature.spectral_rolloff(y=signal_data)[0],\n",
    "\n",
    "        # FFT features\n",
    "        stats.median(signal_fft),\n",
    "        stats.median_low(signal_fft),\n",
    "        stats.median_high(signal_fft),\n",
    "        stats.median_grouped(signal_fft)\n",
    "    ]\n",
    "\n",
    "\n",
    "    return signal_features"
   ]
  },
  {
   "cell_type": "code",
   "execution_count": 77,
   "metadata": {},
   "outputs": [],
   "source": [
    "def extract_features_unsupervised(signal_data):\n",
    "    signal_fft = np.abs(fft(signal_data))[:SIGNAL_LEN // 2]\n",
    "\n",
    "    # Simple feature extraction\n",
    "    signal_features = [\n",
    "\n",
    "        # Base stats\n",
    "        stats.median(signal_data),\n",
    "        stats.median_low(signal_data),\n",
    "        stats.median_high(signal_data),\n",
    "        stats.median_grouped(signal_data),\n",
    "        stats.pstdev(signal_data),\n",
    "        stats.pvariance(signal_data),\n",
    "        stats.stdev(signal_data),\n",
    "        stats.variance(signal_data),\n",
    "\n",
    "        # Advanced stats\n",
    "        skew(signal_data),\n",
    "        kurtosis(signal_data),\n",
    "        iqr(signal_data),\n",
    "\n",
    "        # Energy and root mean square energy\n",
    "        np.sum(signal_data**2),\n",
    "\n",
    "        # Tempo and zero crossings\n",
    "        librosa.beat.tempo(y=signal_data)[0],\n",
    "        sum(librosa.zero_crossings(y=signal_data, pad=False)),\n",
    "\n",
    "        # FFT features\n",
    "        stats.median(signal_fft),\n",
    "        stats.median_low(signal_fft),\n",
    "        stats.median_high(signal_fft),\n",
    "        stats.median_grouped(signal_fft)\n",
    "    ]\n",
    "\n",
    "    return signal_features"
   ]
  },
  {
   "cell_type": "code",
   "execution_count": 38,
   "metadata": {},
   "outputs": [],
   "source": [
    "# Apply feature extraction\n",
    "data = np.array([extract_features(signal) for signal in raw_data])"
   ]
  },
  {
   "cell_type": "code",
   "execution_count": null,
   "metadata": {},
   "outputs": [],
   "source": [
    "data_unsupervised = np.array([extract_features_unsupervised(signal) for signal in raw_data])"
   ]
  },
  {
   "attachments": {},
   "cell_type": "markdown",
   "metadata": {},
   "source": [
    "##### SVM"
   ]
  },
  {
   "cell_type": "code",
   "execution_count": 94,
   "metadata": {},
   "outputs": [],
   "source": [
    "# Normalise the data set\n",
    "scaler = preprocessing.StandardScaler()\n",
    "_ = scaler.fit(data)"
   ]
  },
  {
   "cell_type": "code",
   "execution_count": 96,
   "metadata": {},
   "outputs": [],
   "source": [
    "data_scaled = scaler.transform(data)"
   ]
  },
  {
   "cell_type": "code",
   "execution_count": 119,
   "metadata": {},
   "outputs": [],
   "source": [
    "# Train test split\n",
    "X_train, X_test, y_train, y_test = train_test_split(data_scaled, labels, test_size=0.2, random_state=42)"
   ]
  },
  {
   "cell_type": "code",
   "execution_count": 120,
   "metadata": {},
   "outputs": [],
   "source": [
    "svm_classifier = svm.SVC()\n",
    "_ = svm_classifier.fit(X_train, y_train)"
   ]
  },
  {
   "cell_type": "code",
   "execution_count": 121,
   "metadata": {},
   "outputs": [
    {
     "name": "stdout",
     "output_type": "stream",
     "text": [
      "0.6747787610619469\n"
     ]
    }
   ],
   "source": [
    "score = svm_classifier.score(X_test, y_test)\n",
    "print(score)"
   ]
  },
  {
   "attachments": {},
   "cell_type": "markdown",
   "metadata": {},
   "source": [
    "##### K-Means"
   ]
  },
  {
   "cell_type": "code",
   "execution_count": 104,
   "metadata": {},
   "outputs": [],
   "source": [
    "# Create model and fit_predict for different number of clusters\n",
    "scores = []\n",
    "\n",
    "for i in range(2, 10):\n",
    "    k_means = KMeans(n_clusters=i, random_state=0, n_init='auto')\n",
    "    predicts = k_means.fit_predict(data_unsupervised)\n",
    "\n",
    "    # Calculkate silhoutette_score\n",
    "    score = silhouette_score(data_unsupervised, predicts)\n",
    "    scores.append(score)"
   ]
  },
  {
   "cell_type": "code",
   "execution_count": 105,
   "metadata": {},
   "outputs": [
    {
     "data": {
      "image/png": "[encoded data removed]",
      "text/plain": [
       "<Figure size 640x480 with 1 Axes>"
      ]
     },
     "metadata": {},
     "output_type": "display_data"
    }
   ],
   "source": [
    "# Plot silhouette scores\n",
    "plt.plot(list(range(2, 10)), scores)\n",
    "plt.show()"
   ]
  },
  {
   "cell_type": "code",
   "execution_count": 106,
   "metadata": {},
   "outputs": [
    {
     "name": "stdout",
     "output_type": "stream",
     "text": [
      "0.47874175785650874\n"
     ]
    }
   ],
   "source": [
    "# Create model and fit_predict for known number of clusters\n",
    "k_means_true = KMeans(n_clusters=5, random_state=0, n_init='auto')\n",
    "predicts = k_means_true.fit_predict(data_unsupervised)\n",
    "\n",
    "# Calculkate silhoutette_score\n",
    "score = silhouette_score(data_unsupervised, predicts)\n",
    "print(score)"
   ]
  },
  {
   "cell_type": "code",
   "execution_count": 137,
   "metadata": {},
   "outputs": [
    {
     "name": "stdout",
     "output_type": "stream",
     "text": [
      "Greates hyperparameters: max_iter = 300, tol = 0.0003, algorithm = lloyd. Score = 0.48163588814344216\n"
     ]
    }
   ],
   "source": [
    "parameters = {\n",
    "    'max_iter': [300, 400, 500],\n",
    "    'tol': [0.0001, 0.0002, 0.0003],\n",
    "    'algorithm': ['lloyd', 'elkan']\n",
    "}\n",
    "\n",
    "best_score = -1\n",
    "best_params = {}\n",
    "\n",
    "# Hand-made grid search\n",
    "for max_iter in parameters['max_iter']:\n",
    "    for tol in parameters['tol']:\n",
    "        for algorithm in parameters['algorithm']:\n",
    "            k_means_grid = KMeans(n_clusters=5, random_state=0, n_init='auto', max_iter=max_iter, tol=tol, algorithm=algorithm)\n",
    "            predicts = k_means_grid.fit_predict(data_unsupervised)\n",
    "\n",
    "            if silhouette_score(data_unsupervised, predicts) > best_score:\n",
    "                best_score = silhouette_score(data_unsupervised, predicts)\n",
    "                best_params['max_iter'] = max_iter\n",
    "                best_params['tol'] = tol\n",
    "                best_params['algorithm'] = algorithm\n",
    "\n",
    "print(f'Greates hyperparameters: max_iter = {best_params[\"max_iter\"]}, tol = {best_params[\"tol\"]}, algorithm = {best_params[\"algorithm\"]}. Score = {best_score}')"
   ]
  },
  {
   "attachments": {},
   "cell_type": "markdown",
   "metadata": {},
   "source": [
    "#### Agglomerative"
   ]
  },
  {
   "cell_type": "code",
   "execution_count": 112,
   "metadata": {},
   "outputs": [],
   "source": [
    "# Create model and fit_predict for different number of clusters\n",
    "scores = []\n",
    "\n",
    "for i in range(2, 10):\n",
    "    agglomerative = AgglomerativeClustering(n_clusters=i)\n",
    "    predicts = agglomerative.fit_predict(data_unsupervised)\n",
    "\n",
    "    # Calculkate silhoutette_score\n",
    "    score = silhouette_score(data_unsupervised, predicts)\n",
    "    scores.append(score)"
   ]
  },
  {
   "cell_type": "code",
   "execution_count": 108,
   "metadata": {},
   "outputs": [
    {
     "data": {
      "image/png": "[encoded data removed]",
      "text/plain": [
       "<Figure size 640x480 with 1 Axes>"
      ]
     },
     "metadata": {},
     "output_type": "display_data"
    }
   ],
   "source": [
    "# Plot silhouette scores\n",
    "plt.plot(list(range(2, 10)), scores)\n",
    "plt.show()"
   ]
  },
  {
   "cell_type": "code",
   "execution_count": 114,
   "metadata": {},
   "outputs": [
    {
     "name": "stdout",
     "output_type": "stream",
     "text": [
      "0.44473479201447474\n"
     ]
    }
   ],
   "source": [
    "# Create model and fit_predict for known number of clusters\n",
    "agglomerative_true = AgglomerativeClustering(n_clusters=5)\n",
    "predicts = agglomerative_true.fit_predict(data_unsupervised)\n",
    "\n",
    "# Calculkate silhoutette_score\n",
    "score = silhouette_score(data_unsupervised, predicts)\n",
    "print(score)"
   ]
  },
  {
   "cell_type": "code",
   "execution_count": 140,
   "metadata": {},
   "outputs": [
    {
     "name": "stdout",
     "output_type": "stream",
     "text": [
      "Greates hyperparameters: linkage = average. Score = 0.5215435841006054\n"
     ]
    }
   ],
   "source": [
    "parameters = {\n",
    "    'linkage': ['ward', 'complete', 'average', 'single'],\n",
    "}\n",
    "\n",
    "best_score = -1\n",
    "best_params = {}\n",
    "\n",
    "# Hand-made grid search\n",
    "for linkage in parameters['linkage']:\n",
    "    agglomerative_grid = AgglomerativeClustering(n_clusters=5, linkage=linkage)\n",
    "    predicts = agglomerative_grid.fit_predict(data_unsupervised)\n",
    "\n",
    "    if silhouette_score(data_unsupervised, predicts) > best_score:\n",
    "        best_score = silhouette_score(data_unsupervised, predicts)\n",
    "        best_params['linkage'] = linkage\n",
    "\n",
    "print(f'Greates hyperparameters: linkage = {best_params[\"linkage\"]}. Score = {best_score}')"
   ]
  }
 ],
 "metadata": {
  "kernelspec": {
   "display_name": "venv",
   "language": "python",
   "name": "python3"
  },
  "language_info": {
   "codemirror_mode": {
    "name": "ipython",
    "version": 3
   },
   "file_extension": ".py",
   "mimetype": "text/x-python",
   "name": "python",
   "nbconvert_exporter": "python",
   "pygments_lexer": "ipython3",
   "version": "3.10.1"
  },
  "orig_nbformat": 4,
  "vscode": {
   "interpreter": {
    "hash": "40a427c902905f2a7bed20c789949d224fd0efedc19ea2bea387c3070b1e6ea5"
   }
  }
 },
 "nbformat": 4,
 "nbformat_minor": 2
}
