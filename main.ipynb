{
 "cells": [
  {
   "cell_type": "code",
   "execution_count": 131,
   "metadata": {},
   "outputs": [],
   "source": [
    "# Imports\n",
    "\n",
    "import numpy as np\n",
    "import glob\n",
    "\n",
    "from scipy.io import wavfile\n",
    "from scipy.fft import fft\n",
    "from matplotlib import pyplot as plt\n",
    "from sklearn.model_selection import train_test_split\n",
    "\n",
    "FS_RATE = 22050\n",
    "SIGNAL_LEN = 66150"
   ]
  },
  {
   "cell_type": "code",
   "execution_count": 122,
   "metadata": {},
   "outputs": [],
   "source": [
    "def read_wav_file(file_name):\n",
    "    return wavfile.read(file_name)[1]"
   ]
  },
  {
   "cell_type": "code",
   "execution_count": 123,
   "metadata": {},
   "outputs": [],
   "source": [
    "# Read files and labels\n",
    "signals = []\n",
    "labels = []\n",
    "\n",
    "with open('./data/labels.csv') as labels_file:\n",
    "    labels_raw = dict([line.strip().split(',') for line in labels_file.readlines()[1:]])\n",
    "\n",
    "    for file_name in glob.glob('./data/audio/*.wav'):\n",
    "        signals.append(read_wav_file(file_name))\n",
    "        labels.append(labels_raw[file_name.split('\\\\')[1]])"
   ]
  },
  {
   "cell_type": "code",
   "execution_count": 124,
   "metadata": {},
   "outputs": [],
   "source": [
    "# Convert to np array\n",
    "data = np.array(signals)\n",
    "labels = np.array(labels)"
   ]
  },
  {
   "cell_type": "code",
   "execution_count": 125,
   "metadata": {},
   "outputs": [],
   "source": [
    "X_train, X_test, y_train, y_test = train_test_split(data, labels, test_size=0.2, random_state=42)"
   ]
  }
 ],
 "metadata": {
  "kernelspec": {
   "display_name": "venv",
   "language": "python",
   "name": "python3"
  },
  "language_info": {
   "codemirror_mode": {
    "name": "ipython",
    "version": 3
   },
   "file_extension": ".py",
   "mimetype": "text/x-python",
   "name": "python",
   "nbconvert_exporter": "python",
   "pygments_lexer": "ipython3",
   "version": "3.10.1"
  },
  "orig_nbformat": 4,
  "vscode": {
   "interpreter": {
    "hash": "40a427c902905f2a7bed20c789949d224fd0efedc19ea2bea387c3070b1e6ea5"
   }
  }
 },
 "nbformat": 4,
 "nbformat_minor": 2
}
